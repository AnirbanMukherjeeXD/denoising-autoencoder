{
  "nbformat": 4,
  "nbformat_minor": 0,
  "metadata": {
    "colab": {
      "name": "Denoising-Autoencoder.ipynb",
      "version": "0.3.2",
      "provenance": [],
      "collapsed_sections": [],
      "toc_visible": true,
      "include_colab_link": true
    },
    "kernelspec": {
      "name": "python3",
      "display_name": "Python 3"
    },
    "accelerator": "GPU"
  },
  "cells": [
    {
      "cell_type": "markdown",
      "metadata": {
        "id": "view-in-github",
        "colab_type": "text"
      },
      "source": [
        "<a href=\"https://colab.research.google.com/github/AnirbanMukherjeeXD/denoising-autoencoder/blob/master/Denoising_Autoencoder.ipynb\" target=\"_parent\"><img src=\"https://colab.research.google.com/assets/colab-badge.svg\" alt=\"Open In Colab\"/></a>"
      ]
    },
    {
      "cell_type": "markdown",
      "metadata": {
        "id": "oCjzyhVA3KzS",
        "colab_type": "text"
      },
      "source": [
        "*Source: https://blog.keras.io/building-autoencoders-in-keras.html*"
      ]
    },
    {
      "cell_type": "code",
      "metadata": {
        "id": "iiaSGSFZ2AnD",
        "colab_type": "code",
        "outputId": "e79f901d-4a45-47aa-cfa6-3a1622776a9b",
        "colab": {
          "base_uri": "https://localhost:8080/",
          "height": 34
        }
      },
      "source": [
        "from keras.layers import Input, Dense\n",
        "from keras.models import Model\n",
        "import matplotlib.pyplot as plt\n",
        "import random\n",
        "import cv2"
      ],
      "execution_count": 1,
      "outputs": [
        {
          "output_type": "stream",
          "text": [
            "Using TensorFlow backend.\n"
          ],
          "name": "stderr"
        }
      ]
    },
    {
      "cell_type": "markdown",
      "metadata": {
        "id": "g7P56oyQCSro",
        "colab_type": "text"
      },
      "source": [
        "**MNIST Dataset**"
      ]
    },
    {
      "cell_type": "code",
      "metadata": {
        "id": "PzJTpG593k2V",
        "colab_type": "code",
        "colab": {}
      },
      "source": [
        "from keras.datasets import mnist\n",
        "import numpy as np\n",
        "(x_train, y_train), (x_test, y_test) = mnist.load_data()"
      ],
      "execution_count": 0,
      "outputs": []
    },
    {
      "cell_type": "code",
      "metadata": {
        "id": "UPLuE4Ng3oVY",
        "colab_type": "code",
        "outputId": "49e93f31-e1df-4d16-a886-f68b945b55fa",
        "colab": {
          "base_uri": "https://localhost:8080/",
          "height": 50
        }
      },
      "source": [
        "x_train = x_train.astype('float32') / 255.\n",
        "x_test = x_test.astype('float32') / 255.\n",
        "x_train = x_train.reshape((len(x_train), np.prod(x_train.shape[1:])))\n",
        "x_test = x_test.reshape((len(x_test), np.prod(x_test.shape[1:])))\n",
        "print(x_train.shape)\n",
        "print(x_test.shape)"
      ],
      "execution_count": 6,
      "outputs": [
        {
          "output_type": "stream",
          "text": [
            "(60000, 784)\n",
            "(10000, 784)\n"
          ],
          "name": "stdout"
        }
      ]
    },
    {
      "cell_type": "markdown",
      "metadata": {
        "id": "nwZPk-MEBCes",
        "colab_type": "text"
      },
      "source": [
        "**ADDING NOISE**"
      ]
    },
    {
      "cell_type": "code",
      "metadata": {
        "id": "ggZUKdwl2w4p",
        "colab_type": "code",
        "colab": {}
      },
      "source": [
        "#TRAINING SET\n",
        "noise=np.array([[random.random() for i in range(x_train.shape[1])] for j in range(x_train.shape[0])])\n",
        "noised_x_train=x_train+noise"
      ],
      "execution_count": 0,
      "outputs": []
    },
    {
      "cell_type": "code",
      "metadata": {
        "id": "LAP-rMDs5Eg_",
        "colab_type": "code",
        "colab": {}
      },
      "source": [
        "#TESTING SET\n",
        "noise=np.array([[random.random() for i in range(x_test.shape[1])] for j in range(x_test.shape[0])])\n",
        "noised_x_test=x_test+noise"
      ],
      "execution_count": 0,
      "outputs": []
    },
    {
      "cell_type": "code",
      "metadata": {
        "id": "9ux40ieG1VY_",
        "colab_type": "code",
        "colab": {
          "base_uri": "https://localhost:8080/",
          "height": 538
        },
        "outputId": "640726d0-5bae-4701-f6b3-d57bbb6687e5"
      },
      "source": [
        "plt.gray()\n",
        "plt.imshow(x_test[0].reshape(28,28))\n",
        "plt.show()\n",
        "plt.imshow(noised_x_test[0].reshape(28,28))"
      ],
      "execution_count": 32,
      "outputs": [
        {
          "output_type": "display_data",
          "data": {
            "image/png": "[encoded data removed]",
            "text/plain": [
              "<Figure size 432x288 with 1 Axes>"
            ]
          },
          "metadata": {
            "tags": []
          }
        },
        {
          "output_type": "execute_result",
          "data": {
            "text/plain": [
              "<matplotlib.image.AxesImage at 0x7f2d55220710>"
            ]
          },
          "metadata": {
            "tags": []
          },
          "execution_count": 32
        },
        {
          "output_type": "display_data",
          "data": {
            "image/png": "[encoded data removed]",
            "text/plain": [
              "<Figure size 432x288 with 1 Axes>"
            ]
          },
          "metadata": {
            "tags": []
          }
        }
      ]
    },
    {
      "cell_type": "markdown",
      "metadata": {
        "id": "Q5_iLdwjCUjP",
        "colab_type": "text"
      },
      "source": [
        "**MODEL**"
      ]
    },
    {
      "cell_type": "code",
      "metadata": {
        "id": "lL2bufG7iDKT",
        "colab_type": "code",
        "outputId": "4e7ef6d9-dc32-40d3-97f4-7a819e2d646f",
        "colab": {
          "base_uri": "https://localhost:8080/",
          "height": 87
        }
      },
      "source": [
        "input_img = Input(shape=(784,))\n",
        "encoded = Dense(32, activation='relu')(input_img)\n",
        "decoded = Dense(784, activation='sigmoid')(encoded)\n",
        "autoencoder = Model(input_img, decoded)"
      ],
      "execution_count": 2,
      "outputs": [
        {
          "output_type": "stream",
          "text": [
            "WARNING:tensorflow:From /usr/local/lib/python3.6/dist-packages/tensorflow/python/framework/op_def_library.py:263: colocate_with (from tensorflow.python.framework.ops) is deprecated and will be removed in a future version.\n",
            "Instructions for updating:\n",
            "Colocations handled automatically by placer.\n"
          ],
          "name": "stdout"
        }
      ]
    },
    {
      "cell_type": "code",
      "metadata": {
        "id": "ZU936VqTfG9B",
        "colab_type": "code",
        "outputId": "44781839-6b80-45d6-8baa-0e160afd88a8",
        "colab": {
          "base_uri": "https://localhost:8080/",
          "height": 235
        }
      },
      "source": [
        "autoencoder.summary()"
      ],
      "execution_count": 0,
      "outputs": [
        {
          "output_type": "stream",
          "text": [
            "_________________________________________________________________\n",
            "Layer (type)                 Output Shape              Param #   \n",
            "=================================================================\n",
            "input_1 (InputLayer)         (None, 784)               0         \n",
            "_________________________________________________________________\n",
            "dense_1 (Dense)              (None, 32)                25120     \n",
            "_________________________________________________________________\n",
            "dense_2 (Dense)              (None, 784)               25872     \n",
            "=================================================================\n",
            "Total params: 50,992\n",
            "Trainable params: 50,992\n",
            "Non-trainable params: 0\n",
            "_________________________________________________________________\n"
          ],
          "name": "stdout"
        }
      ]
    },
    {
      "cell_type": "code",
      "metadata": {
        "id": "OSacQ4AR3ckI",
        "colab_type": "code",
        "colab": {}
      },
      "source": [
        "autoencoder.compile(optimizer='adam', loss='binary_crossentropy',metrics=['mse'])"
      ],
      "execution_count": 0,
      "outputs": []
    },
    {
      "cell_type": "code",
      "metadata": {
        "id": "bVz7HEoA3poO",
        "colab_type": "code",
        "outputId": "d1c6a9da-3867-4bc8-d997-68fcef5d7982",
        "colab": {
          "base_uri": "https://localhost:8080/",
          "height": 1784
        }
      },
      "source": [
        "history=autoencoder.fit(noised_x_train, x_train,epochs=50,batch_size=256,shuffle=True,validation_data=(x_test, x_test))"
      ],
      "execution_count": 33,
      "outputs": [
        {
          "output_type": "stream",
          "text": [
            "WARNING:tensorflow:From /usr/local/lib/python3.6/dist-packages/tensorflow/python/ops/math_ops.py:3066: to_int32 (from tensorflow.python.ops.math_ops) is deprecated and will be removed in a future version.\n",
            "Instructions for updating:\n",
            "Use tf.cast instead.\n",
            "Train on 60000 samples, validate on 10000 samples\n",
            "Epoch 1/50\n",
            "60000/60000 [==============================] - 2s 34us/step - loss: 0.2779 - mean_squared_error: 0.0717 - val_loss: 0.4405 - val_mean_squared_error: 0.1195\n",
            "Epoch 2/50\n",
            "60000/60000 [==============================] - 1s 18us/step - loss: 0.1932 - mean_squared_error: 0.0424 - val_loss: 0.3785 - val_mean_squared_error: 0.0989\n",
            "Epoch 3/50\n",
            "60000/60000 [==============================] - 1s 17us/step - loss: 0.1640 - mean_squared_error: 0.0327 - val_loss: 0.3538 - val_mean_squared_error: 0.0911\n",
            "Epoch 4/50\n",
            "60000/60000 [==============================] - 1s 17us/step - loss: 0.1494 - mean_squared_error: 0.0279 - val_loss: 0.3425 - val_mean_squared_error: 0.0874\n",
            "Epoch 5/50\n",
            "60000/60000 [==============================] - 1s 18us/step - loss: 0.1403 - mean_squared_error: 0.0250 - val_loss: 0.3342 - val_mean_squared_error: 0.0842\n",
            "Epoch 6/50\n",
            "60000/60000 [==============================] - 1s 17us/step - loss: 0.1349 - mean_squared_error: 0.0234 - val_loss: 0.3338 - val_mean_squared_error: 0.0838\n",
            "Epoch 7/50\n",
            "60000/60000 [==============================] - 1s 18us/step - loss: 0.1321 - mean_squared_error: 0.0225 - val_loss: 0.3345 - val_mean_squared_error: 0.0840\n",
            "Epoch 8/50\n",
            "60000/60000 [==============================] - 1s 17us/step - loss: 0.1306 - mean_squared_error: 0.0221 - val_loss: 0.3347 - val_mean_squared_error: 0.0840\n",
            "Epoch 9/50\n",
            "60000/60000 [==============================] - 1s 17us/step - loss: 0.1298 - mean_squared_error: 0.0218 - val_loss: 0.3323 - val_mean_squared_error: 0.0832\n",
            "Epoch 10/50\n",
            "60000/60000 [==============================] - 1s 17us/step - loss: 0.1292 - mean_squared_error: 0.0217 - val_loss: 0.3320 - val_mean_squared_error: 0.0832\n",
            "Epoch 11/50\n",
            "60000/60000 [==============================] - 1s 17us/step - loss: 0.1288 - mean_squared_error: 0.0216 - val_loss: 0.3295 - val_mean_squared_error: 0.0825\n",
            "Epoch 12/50\n",
            "60000/60000 [==============================] - 1s 17us/step - loss: 0.1285 - mean_squared_error: 0.0215 - val_loss: 0.3298 - val_mean_squared_error: 0.0827\n",
            "Epoch 13/50\n",
            "60000/60000 [==============================] - 1s 17us/step - loss: 0.1283 - mean_squared_error: 0.0214 - val_loss: 0.3278 - val_mean_squared_error: 0.0822\n",
            "Epoch 14/50\n",
            "60000/60000 [==============================] - 1s 17us/step - loss: 0.1281 - mean_squared_error: 0.0214 - val_loss: 0.3248 - val_mean_squared_error: 0.0814\n",
            "Epoch 15/50\n",
            "60000/60000 [==============================] - 1s 17us/step - loss: 0.1280 - mean_squared_error: 0.0213 - val_loss: 0.3233 - val_mean_squared_error: 0.0809\n",
            "Epoch 16/50\n",
            "60000/60000 [==============================] - 1s 17us/step - loss: 0.1279 - mean_squared_error: 0.0213 - val_loss: 0.3226 - val_mean_squared_error: 0.0808\n",
            "Epoch 17/50\n",
            "60000/60000 [==============================] - 1s 18us/step - loss: 0.1278 - mean_squared_error: 0.0213 - val_loss: 0.3200 - val_mean_squared_error: 0.0800\n",
            "Epoch 18/50\n",
            "60000/60000 [==============================] - 1s 17us/step - loss: 0.1278 - mean_squared_error: 0.0213 - val_loss: 0.3204 - val_mean_squared_error: 0.0802\n",
            "Epoch 19/50\n",
            "60000/60000 [==============================] - 1s 18us/step - loss: 0.1277 - mean_squared_error: 0.0213 - val_loss: 0.3186 - val_mean_squared_error: 0.0797\n",
            "Epoch 20/50\n",
            "60000/60000 [==============================] - 1s 18us/step - loss: 0.1276 - mean_squared_error: 0.0212 - val_loss: 0.3182 - val_mean_squared_error: 0.0797\n",
            "Epoch 21/50\n",
            "60000/60000 [==============================] - 1s 17us/step - loss: 0.1276 - mean_squared_error: 0.0212 - val_loss: 0.3178 - val_mean_squared_error: 0.0796\n",
            "Epoch 22/50\n",
            "60000/60000 [==============================] - 1s 17us/step - loss: 0.1275 - mean_squared_error: 0.0212 - val_loss: 0.3168 - val_mean_squared_error: 0.0793\n",
            "Epoch 23/50\n",
            "60000/60000 [==============================] - 1s 18us/step - loss: 0.1275 - mean_squared_error: 0.0212 - val_loss: 0.3158 - val_mean_squared_error: 0.0791\n",
            "Epoch 24/50\n",
            "60000/60000 [==============================] - 1s 18us/step - loss: 0.1274 - mean_squared_error: 0.0212 - val_loss: 0.3141 - val_mean_squared_error: 0.0785\n",
            "Epoch 25/50\n",
            "60000/60000 [==============================] - 1s 17us/step - loss: 0.1274 - mean_squared_error: 0.0212 - val_loss: 0.3137 - val_mean_squared_error: 0.0784\n",
            "Epoch 26/50\n",
            "60000/60000 [==============================] - 1s 17us/step - loss: 0.1274 - mean_squared_error: 0.0212 - val_loss: 0.3127 - val_mean_squared_error: 0.0781\n",
            "Epoch 27/50\n",
            "60000/60000 [==============================] - 1s 18us/step - loss: 0.1274 - mean_squared_error: 0.0212 - val_loss: 0.3122 - val_mean_squared_error: 0.0780\n",
            "Epoch 28/50\n",
            "60000/60000 [==============================] - 1s 17us/step - loss: 0.1273 - mean_squared_error: 0.0212 - val_loss: 0.3096 - val_mean_squared_error: 0.0772\n",
            "Epoch 29/50\n",
            "60000/60000 [==============================] - 1s 17us/step - loss: 0.1273 - mean_squared_error: 0.0211 - val_loss: 0.3084 - val_mean_squared_error: 0.0768\n",
            "Epoch 30/50\n",
            "60000/60000 [==============================] - 1s 17us/step - loss: 0.1273 - mean_squared_error: 0.0211 - val_loss: 0.3093 - val_mean_squared_error: 0.0772\n",
            "Epoch 31/50\n",
            "60000/60000 [==============================] - 1s 17us/step - loss: 0.1272 - mean_squared_error: 0.0211 - val_loss: 0.3054 - val_mean_squared_error: 0.0759\n",
            "Epoch 32/50\n",
            "60000/60000 [==============================] - 1s 17us/step - loss: 0.1272 - mean_squared_error: 0.0211 - val_loss: 0.3066 - val_mean_squared_error: 0.0763\n",
            "Epoch 33/50\n",
            "60000/60000 [==============================] - 1s 17us/step - loss: 0.1272 - mean_squared_error: 0.0211 - val_loss: 0.3062 - val_mean_squared_error: 0.0762\n",
            "Epoch 34/50\n",
            "60000/60000 [==============================] - 1s 17us/step - loss: 0.1272 - mean_squared_error: 0.0211 - val_loss: 0.3058 - val_mean_squared_error: 0.0761\n",
            "Epoch 35/50\n",
            "60000/60000 [==============================] - 1s 17us/step - loss: 0.1271 - mean_squared_error: 0.0211 - val_loss: 0.3043 - val_mean_squared_error: 0.0756\n",
            "Epoch 36/50\n",
            "60000/60000 [==============================] - 1s 17us/step - loss: 0.1271 - mean_squared_error: 0.0211 - val_loss: 0.3033 - val_mean_squared_error: 0.0753\n",
            "Epoch 37/50\n",
            "60000/60000 [==============================] - 1s 17us/step - loss: 0.1271 - mean_squared_error: 0.0211 - val_loss: 0.3030 - val_mean_squared_error: 0.0752\n",
            "Epoch 38/50\n",
            "60000/60000 [==============================] - 1s 18us/step - loss: 0.1270 - mean_squared_error: 0.0210 - val_loss: 0.3019 - val_mean_squared_error: 0.0749\n",
            "Epoch 39/50\n",
            "60000/60000 [==============================] - 1s 17us/step - loss: 0.1270 - mean_squared_error: 0.0210 - val_loss: 0.3022 - val_mean_squared_error: 0.0749\n",
            "Epoch 40/50\n",
            "60000/60000 [==============================] - 1s 17us/step - loss: 0.1270 - mean_squared_error: 0.0210 - val_loss: 0.2993 - val_mean_squared_error: 0.0740\n",
            "Epoch 41/50\n",
            "60000/60000 [==============================] - 1s 17us/step - loss: 0.1270 - mean_squared_error: 0.0210 - val_loss: 0.2988 - val_mean_squared_error: 0.0738\n",
            "Epoch 42/50\n",
            "60000/60000 [==============================] - 1s 17us/step - loss: 0.1270 - mean_squared_error: 0.0210 - val_loss: 0.2987 - val_mean_squared_error: 0.0737\n",
            "Epoch 43/50\n",
            "60000/60000 [==============================] - 1s 17us/step - loss: 0.1269 - mean_squared_error: 0.0210 - val_loss: 0.2982 - val_mean_squared_error: 0.0736\n",
            "Epoch 44/50\n",
            "60000/60000 [==============================] - 1s 17us/step - loss: 0.1269 - mean_squared_error: 0.0210 - val_loss: 0.2968 - val_mean_squared_error: 0.0732\n",
            "Epoch 45/50\n",
            "60000/60000 [==============================] - 1s 17us/step - loss: 0.1269 - mean_squared_error: 0.0210 - val_loss: 0.2967 - val_mean_squared_error: 0.0731\n",
            "Epoch 46/50\n",
            "60000/60000 [==============================] - 1s 17us/step - loss: 0.1268 - mean_squared_error: 0.0210 - val_loss: 0.2973 - val_mean_squared_error: 0.0733\n",
            "Epoch 47/50\n",
            "60000/60000 [==============================] - 1s 17us/step - loss: 0.1268 - mean_squared_error: 0.0210 - val_loss: 0.2939 - val_mean_squared_error: 0.0722\n",
            "Epoch 48/50\n",
            "60000/60000 [==============================] - 1s 17us/step - loss: 0.1268 - mean_squared_error: 0.0210 - val_loss: 0.2937 - val_mean_squared_error: 0.0722\n",
            "Epoch 49/50\n",
            "60000/60000 [==============================] - 1s 17us/step - loss: 0.1267 - mean_squared_error: 0.0209 - val_loss: 0.2937 - val_mean_squared_error: 0.0721\n",
            "Epoch 50/50\n",
            "60000/60000 [==============================] - 1s 17us/step - loss: 0.1267 - mean_squared_error: 0.0209 - val_loss: 0.2927 - val_mean_squared_error: 0.0718\n"
          ],
          "name": "stdout"
        }
      ]
    },
    {
      "cell_type": "code",
      "metadata": {
        "id": "djNBw_VxjBSu",
        "colab_type": "code",
        "outputId": "c569c3b5-c994-40b1-930f-7925d668d252",
        "colab": {
          "base_uri": "https://localhost:8080/",
          "height": 286
        }
      },
      "source": [
        "plt.plot(history.history['mean_squared_error'])\n",
        "plt.plot(history.history['val_mean_squared_error'])\n",
        "plt.legend(['Training Data','Validating Data'])"
      ],
      "execution_count": 34,
      "outputs": [
        {
          "output_type": "execute_result",
          "data": {
            "text/plain": [
              "<matplotlib.legend.Legend at 0x7f2d49fdbd68>"
            ]
          },
          "metadata": {
            "tags": []
          },
          "execution_count": 34
        },
        {
          "output_type": "display_data",
          "data": {
            "image/png": "[encoded data removed]",
            "text/plain": [
              "<Figure size 432x288 with 1 Axes>"
            ]
          },
          "metadata": {
            "tags": []
          }
        }
      ]
    },
    {
      "cell_type": "markdown",
      "metadata": {
        "id": "-BwBqibwCn0t",
        "colab_type": "text"
      },
      "source": [
        "**Testing on MNIST Test Set**"
      ]
    },
    {
      "cell_type": "code",
      "metadata": {
        "id": "GJUE-YdAk4tk",
        "colab_type": "code",
        "outputId": "36799bac-7a11-437d-8118-7fe5fdaca235",
        "colab": {
          "base_uri": "https://localhost:8080/",
          "height": 773
        }
      },
      "source": [
        "index=6\n",
        "pred=autoencoder.predict(noised_x_test)\n",
        "plt.imshow(noised_x_test[index].reshape(28, 28))\n",
        "plt.gray()\n",
        "plt.show()\n",
        "plt.imshow(x_test[index].reshape(28, 28))\n",
        "plt.gray()\n",
        "plt.show()\n",
        "plt.imshow(pred[index].reshape(28, 28))\n",
        "plt.gray()\n",
        "plt.show()"
      ],
      "execution_count": 90,
      "outputs": [
        {
          "output_type": "display_data",
          "data": {
            "image/png": "[encoded data removed]",
            "text/plain": [
              "<Figure size 432x288 with 1 Axes>"
            ]
          },
          "metadata": {
            "tags": []
          }
        },
        {
          "output_type": "display_data",
          "data": {
            "image/png": "[encoded data removed]",
            "text/plain": [
              "<Figure size 432x288 with 1 Axes>"
            ]
          },
          "metadata": {
            "tags": []
          }
        },
        {
          "output_type": "display_data",
          "data": {
            "image/png": "[encoded data removed]",
            "text/plain": [
              "<Figure size 432x288 with 1 Axes>"
            ]
          },
          "metadata": {
            "tags": []
          }
        }
      ]
    },
    {
      "cell_type": "markdown",
      "metadata": {
        "id": "dDefyVudBlO0",
        "colab_type": "text"
      },
      "source": [
        "**Testing on Custom Digit** ***(Not part of MNIST)***"
      ]
    },
    {
      "cell_type": "code",
      "metadata": {
        "id": "ToFnsr507Xw-",
        "colab_type": "code",
        "colab": {
          "base_uri": "https://localhost:8080/",
          "height": 286
        },
        "outputId": "8a40fc23-170c-4b9d-880f-a8ff5f8b3eab"
      },
      "source": [
        "img=cv2.imread('6_noised.png', cv2.IMREAD_GRAYSCALE).reshape(1,784)\n",
        "plt.imshow(img[0].reshape(28,28))"
      ],
      "execution_count": 83,
      "outputs": [
        {
          "output_type": "execute_result",
          "data": {
            "text/plain": [
              "<matplotlib.image.AxesImage at 0x7f2d1c573ac8>"
            ]
          },
          "metadata": {
            "tags": []
          },
          "execution_count": 83
        },
        {
          "output_type": "display_data",
          "data": {
            "image/png": "[encoded data removed]",
            "text/plain": [
              "<Figure size 432x288 with 1 Axes>"
            ]
          },
          "metadata": {
            "tags": []
          }
        }
      ]
    },
    {
      "cell_type": "code",
      "metadata": {
        "id": "GIhzRdz57WXA",
        "colab_type": "code",
        "colab": {
          "base_uri": "https://localhost:8080/",
          "height": 521
        },
        "outputId": "41192a11-a9d3-4747-a441-c7953b0bfc8d"
      },
      "source": [
        "pred=autoencoder.predict(img)\n",
        "plt.imshow(img[0].reshape(28, 28))\n",
        "plt.gray()\n",
        "plt.show()\n",
        "plt.imshow(pred[0].reshape(28, 28))\n",
        "plt.gray()\n",
        "plt.show()"
      ],
      "execution_count": 86,
      "outputs": [
        {
          "output_type": "display_data",
          "data": {
            "image/png": "[encoded data removed]",
            "text/plain": [
              "<Figure size 432x288 with 1 Axes>"
            ]
          },
          "metadata": {
            "tags": []
          }
        },
        {
          "output_type": "display_data",
          "data": {
            "image/png": "[encoded data removed]",
            "text/plain": [
              "<Figure size 432x288 with 1 Axes>"
            ]
          },
          "metadata": {
            "tags": []
          }
        }
      ]
    }
  ]
}